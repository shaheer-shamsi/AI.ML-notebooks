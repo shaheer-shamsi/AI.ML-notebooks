{
  "cells": [
    {
      "cell_type": "markdown",
      "id": "53b65002",
      "metadata": {
        "id": "53b65002"
      },
      "source": [
        "# Assignment:\n",
        "\n",
        "\n",
        "## Task 1: Exploring Loss Functions: RMSE and MAE\n",
        "\n",
        "## Objective\n",
        "The objective of this Task is to understand and implement two different loss functions, Root Mean Squared Error (RMSE) and Mean Absolute Error (MAE), and to compare their mathematical formulations and Python code implementations using dummy data.\n",
        "\n",
        "## Instructions\n",
        "\n",
        "### create a markdown/code cell for each task and steps and provide the answers accordingly.\n",
        "\n",
        "### step 1. Mathematical Formulation\n",
        "- Explain the mathematical formulation of both RMSE (Root Mean Squared Error) and MAE (Mean Absolute Error) as loss functions.\n",
        "- Provide an example equation for each loss function, including the relevant symbols and variables.\n",
        "\n",
        "### step 2. Numpy Code Implementation\n",
        "- Implement both RMSE and MAE loss functions using Python and NumPy.\n",
        "- Use the following dummy data for your calculations:\n",
        "    ```python\n",
        "    true_values = [5, 8, 12, 15, 18]\n",
        "    predicted_values = [4, 9, 10, 14, 20]\n",
        "    ```\n",
        "- Write Python functions for RMSE and MAE that take the true values and predicted values as input and return the respective loss values.\n",
        "- Calculate and display the RMSE and MAE values for the provided dummy data.\n",
        "\n",
        "### step 3. Comparison and Discussion\n",
        "- Compare and contrast the characteristics of RMSE and MAE as loss functions.\n",
        "- Discuss scenarios where RMSE might be more suitable and scenarios where MAE might be preferred.\n",
        "- Explain the advantages and disadvantages of each loss function.\n",
        "\n"
      ]
    },
    {
      "cell_type": "markdown",
      "id": "fd4a68a5",
      "metadata": {
        "id": "fd4a68a5"
      },
      "source": [
        "# Task 2: Linear Regression with Gradient Descent\n",
        "\n",
        "## Objective\n",
        "In this Task, you will implement linear regression using gradient descent to fit a line to a set of dummy linear data. Your goal is to experiment with different iterations to find the best-fit line and determine the optimal values for the slope (m) and y-intercept (c).\n",
        "\n",
        "## Instructions\n",
        "\n",
        "### create a markdown/code cell for each task and steps and provide the answers accordingly.\n",
        "\n",
        "### Step 1: Generate Dummy Linear Data\n",
        "- Generate a set of dummy linear data in Python. Use NumPy or any relevant libraries to create the data points. The data should consist of (x, y) pairs, where x represents the independent variable, and y represents the dependent variable.\n",
        "\n",
        "### Step 2: Implement Gradient Descent\n",
        "- Implement the gradient descent algorithm to iteratively update the values of `m` and `c` to minimize the error between the predicted and actual values of `y`. Use a learning rate of your choice. And use the RMSE function that you have implemented on the previous task in order to calculate the loss. (You can use the code given on the notebook and use your own version)\n",
        "\n",
        "### Step 3: Iterations\n",
        "- Run the gradient descent algorithm for a specified number of iterations (e.g., 1000 iterations). After each iteration, record the values of `m` and `c`.\n",
        "\n",
        "### Step 4: Visualization\n",
        "- Create a visualization that displays the dummy data points and the fitted line for each iteration. You can use Python libraries such as Matplotlib for plotting.\n",
        "\n",
        "### Step 5: Find the Best Fit\n",
        "- Analyze the results of your gradient descent iterations. Determine the iteration number where you obtain the best-fit line (i.e., the line with the lowest RMSE). Record the final values of `m` and `c` at that iteration.\n",
        "\n",
        "### Step 6: Observe\n",
        "- Observe if loss starts increasing after certain number of iteration. If, yes output the iteraion number.\n",
        "## Note\n",
        "You can choose appropriate values for the learning rate and the initial values for `m` and `c`."
      ]
    },
    {
      "cell_type": "markdown",
      "id": "ee69d540",
      "metadata": {
        "id": "ee69d540"
      },
      "source": [
        "# Example Code to generate dummy data and plotting."
      ]
    },
    {
      "cell_type": "code",
      "execution_count": null,
      "id": "e0a01ef5",
      "metadata": {
        "id": "e0a01ef5",
        "outputId": "5a9d011e-4750-4e4f-8aec-baf32b4436ea"
      },
      "outputs": [
        {
          "data": {
            "image/png": "[encoded data removed]",
            "text/plain": [
              "<Figure size 640x480 with 1 Axes>"
            ]
          },
          "metadata": {},
          "output_type": "display_data"
        }
      ],
      "source": [
        "import numpy as np\n",
        "import matplotlib.pyplot as plt\n",
        "\n",
        "# Generate closely packed linear data\n",
        "np.random.seed(0)\n",
        "x = np.linspace(1, 5, 50)  # Generate more x values\n",
        "y = 2 * x + 3 + np.random.normal(0, 0.2, 50)  # Reduce the standard deviation for less scatter\n",
        "\n",
        "# Create a scatter plot of the data points\n",
        "plt.scatter(x, y, label='Data Points', color='blue')\n",
        "\n",
        "# Add labels and legend\n",
        "plt.xlabel('X')\n",
        "plt.ylabel('Y')\n",
        "plt.legend()\n",
        "\n",
        "# Show the plot\n",
        "plt.title('Dummy Data for Linear Regression')\n",
        "plt.show()\n"
      ]
    },
    {
      "cell_type": "code",
      "execution_count": null,
      "id": "e8150db1",
      "metadata": {
        "id": "e8150db1"
      },
      "outputs": [],
      "source": []
    }
  ],
  "metadata": {
    "kernelspec": {
      "display_name": "Python 3 (ipykernel)",
      "language": "python",
      "name": "python3"
    },
    "language_info": {
      "codemirror_mode": {
        "name": "ipython",
        "version": 3
      },
      "file_extension": ".py",
      "mimetype": "text/x-python",
      "name": "python",
      "nbconvert_exporter": "python",
      "pygments_lexer": "ipython3",
      "version": "3.10.9"
    },
    "colab": {
      "provenance": []
    }
  },
  "nbformat": 4,
  "nbformat_minor": 5
}